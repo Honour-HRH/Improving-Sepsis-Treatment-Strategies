{
 "cells": [
  {
   "cell_type": "code",
   "execution_count": 43,
   "metadata": {
    "collapsed": true
   },
   "outputs": [],
   "source": [
    "import numpy as np\n",
    "import torch\n",
    "import torch.nn as nn\n",
    "from torch.autograd import Variable\n",
    "from torch.autograd import Function\n",
    "import torch.nn.functional as F\n",
    "from torch.utils.data import TensorDataset, DataLoader\n",
    "from sklearn.model_selection import train_test_split\n",
    "from time import time\n",
    "import matplotlib.pyplot as plt\n",
    "import pickle as pkl\n",
    "import pandas as pd\n",
    "from collections import Counter\n",
    "from sklearn.metrics import r2_score\n",
    "\n",
    "% matplotlib inline"
   ]
  },
  {
   "cell_type": "code",
   "execution_count": 2,
   "metadata": {
    "collapsed": true
   },
   "outputs": [],
   "source": [
    "train_set = pd.read_csv('path/to/trainset')\n",
    "test_set = pd.read_csv('path/to/testset')"
   ]
  },
  {
   "cell_type": "code",
   "execution_count": 3,
   "metadata": {
    "collapsed": true
   },
   "outputs": [],
   "source": [
    "observ_cols = ['gender', 'age','elixhauser','re_admission', 'SOFA', 'SIRS', 'Weight_kg', 'GCS', 'HR',\n",
    "            'SysBP', 'MeanBP', 'DiaBP', 'RR', 'SpO2',\n",
    "            'Temp_C', 'FiO2_1', 'Potassium', 'Sodium', 'Chloride',\n",
    "            'Glucose', 'BUN', 'Creatinine', 'Magnesium', 'Calcium',\n",
    "            'Ionised_Ca', 'CO2_mEqL', 'SGOT', 'SGPT', 'Total_bili',\n",
    "            'Albumin', 'Hb', 'WBC_count', 'Platelets_count', 'PTT',\n",
    "            'PT', 'INR', 'Arterial_pH', 'paO2', 'paCO2',\n",
    "            'Arterial_BE', 'Arterial_lactate', 'HCO3', 'PaO2_FiO2',\n",
    "            'output_total', 'output_4hourly']"
   ]
  },
  {
   "cell_type": "code",
   "execution_count": 28,
   "metadata": {
    "collapsed": true
   },
   "outputs": [],
   "source": [
    "# sparsity constrain\n",
    "class L1Penalty(Function):\n",
    "    @staticmethod\n",
    "    def forward(ctx, input, l1weight):\n",
    "        ctx.save_for_backward(input)\n",
    "        ctx.l1weight = l1weight\n",
    "        return input\n",
    "\n",
    "    @staticmethod\n",
    "    def backward(ctx, grad_output):\n",
    "        input, = ctx.saved_variables\n",
    "        grad_input = input.clone().sign().mul(self.l1weight)\n",
    "        grad_input += grad_output\n",
    "        return grad_input"
   ]
  },
  {
   "cell_type": "code",
   "execution_count": 72,
   "metadata": {
    "collapsed": true
   },
   "outputs": [],
   "source": [
    "class SparseAutoEncoder(nn.Module):\n",
    "    def __init__(self, input_size, hidden_size, l1=1e-5):\n",
    "        \n",
    "        super(SparseAutoEncoder, self).__init__()\n",
    "        \n",
    "        self.input_size = input_size\n",
    "        self.hidden_size = hidden_size\n",
    "        self.encoder1 = nn.Linear(input_size, hidden_size)\n",
    "        self.encoder2 = nn.Linear(hidden_size, hidden_size)\n",
    "        self.decoder1 = nn.Linear(hidden_size, hidden_size)\n",
    "        self.decoder2 = nn.Linear(hidden_size, input_size)\n",
    "        self.l1weight = l1\n",
    "    \n",
    "    def forward(self, x):\n",
    "        \n",
    "        encoded1 = F.relu(self.encoder1(x))\n",
    "        encoded = self.encoder2(encoded1)\n",
    "        \n",
    "        # add sparsity constraint\n",
    "        encoded = L1Penalty.apply(encoded, self.l1weight)\n",
    "        \n",
    "        decoded1 = self.decoder1(encoded)\n",
    "        decoded = self.decoder2(decoded1)\n",
    "        decoded = F.sigmoid(decoded)\n",
    "        \n",
    "        return encoded, decoded"
   ]
  },
  {
   "cell_type": "code",
   "execution_count": 17,
   "metadata": {
    "collapsed": true
   },
   "outputs": [],
   "source": [
    "def do_eval(eval_set, autoencoder, output_embeddings=False):\n",
    "    \n",
    "    enc_criterion = torch.nn.MSELoss()\n",
    "\n",
    "    eval_enc_loss, eval_enc_acc = 0, 0   \n",
    "\n",
    "    enc_X = Variable(torch.FloatTensor(eval_set[observ_cols].values))\n",
    "    encoded, decoded = autoencoder(enc_X.unsqueeze(1)) \n",
    "\n",
    "    eval_enc_loss = enc_criterion(decoded, enc_X)\n",
    "    eval_enc_acc = r2_score(enc_X.data.numpy(), decoded.squeeze(1).data.numpy(), \n",
    "                             multioutput='variance_weighted')\n",
    "    \n",
    "    if output_embeddings:\n",
    "        return encoded.squeeze(1).data.numpy()\n",
    "    \n",
    "    return eval_enc_loss.data[0], eval_enc_acc"
   ]
  },
  {
   "cell_type": "code",
   "execution_count": 63,
   "metadata": {
    "collapsed": true
   },
   "outputs": [],
   "source": [
    "def train_autoencoder(train_set, test_set, autoencoder, lr=0.001, batch_size=128, \n",
    "                      num_epoch=50, print_every=500, val=False):\n",
    "    \n",
    "    enc_criterion = torch.nn.MSELoss()\n",
    "    \n",
    "    optimizer = torch.optim.Adam(autoencoder.parameters(), lr=lr)\n",
    "    \n",
    "    train_x, val_x = train_test_split(train_set[observ_cols].values, test_size=0.1, random_state=42)\n",
    "\n",
    "    for epoch in range(1, num_epoch+1):\n",
    "        \n",
    "        num_batches = train_x.shape[0] // batch_size\n",
    "        \n",
    "        for batch in range(num_batches):\n",
    "            \n",
    "            enc_loss, enc_acc = 0, 0\n",
    "            \n",
    "            batch_train_x = train_x[batch*batch_size: (batch+1)*batch_size]\n",
    "            enc_X = Variable(torch.FloatTensor(batch_train_x))\n",
    "            encoded, decoded = autoencoder(enc_X.unsqueeze(1)) \n",
    "            #print(encoded.shape, decoded.shape)\n",
    "            enc_loss = enc_criterion(decoded, enc_X)\n",
    "            \n",
    "            enc_acc = r2_score(enc_X.data.numpy(), decoded.squeeze(1).data.numpy(), \n",
    "                                multioutput='variance_weighted')\n",
    "            \n",
    "            if batch != 0 and batch % print_every == 0:\n",
    "                print ('epoch:{}/{}, batch:{}/{}, loss:{}, enc_acc:{}'.format(epoch, num_epoch,batch, \\\n",
    "                                                                                                       num_batches, enc_loss.data[0], \\\n",
    "                                                                                                       enc_acc))\n",
    "            optimizer.zero_grad()\n",
    "            enc_loss.backward()\n",
    "            optimizer.step()\n",
    "        \n",
    "        if val:\n",
    "            print ('-----------------------')\n",
    "            print ('evaluating ...')\n",
    "            val_total_loss, val_enc_acc = do_val(train_set, val_uids, autoencoder)\n",
    "            print ('Validating: loss:{}, enc_acc:{}'.format(val_total_loss.data[0], \\\n",
    "                                                                                     val_enc_acc))\n",
    "            print ('-----------------------')\n",
    "        \n",
    "        if epoch != 0 and epoch % 10 == 0:\n",
    "            print ('Testing ...')\n",
    "            eval_enc_loss, eval_enc_acc = do_eval(test_set, autoencoder)\n",
    "            print ('eval loss:', eval_enc_loss, 'eval acc:', eval_enc_acc)\n",
    "            print ('-----------------------')"
   ]
  },
  {
   "cell_type": "code",
   "execution_count": 64,
   "metadata": {
    "collapsed": true
   },
   "outputs": [],
   "source": [
    "autoencoder = SparseAutoEncoder(45, 128)"
   ]
  },
  {
   "cell_type": "code",
   "execution_count": 1,
   "metadata": {
    "scrolled": false
   },
   "outputs": [],
   "source": [
    "train_autoencoder(train_set, test_set, autoencoder, lr=1e-4, num_epoch=5) # 55 epochs in total"
   ]
  },
  {
   "cell_type": "code",
   "execution_count": 68,
   "metadata": {
    "collapsed": true
   },
   "outputs": [],
   "source": [
    "train_embeddings = do_eval(train_set, autoencoder, output_embeddings=True)"
   ]
  },
  {
   "cell_type": "code",
   "execution_count": 69,
   "metadata": {
    "collapsed": true
   },
   "outputs": [],
   "source": [
    "test_embeddings = do_eval(test_set, autoencoder, output_embeddings=True)"
   ]
  },
  {
   "cell_type": "code",
   "execution_count": 75,
   "metadata": {
    "collapsed": true
   },
   "outputs": [],
   "source": [
    "pkl.dump(train_embeddings, open('train_embeddings_sparse_encoded.pkl', 'wb'))"
   ]
  },
  {
   "cell_type": "code",
   "execution_count": 76,
   "metadata": {
    "collapsed": true
   },
   "outputs": [],
   "source": [
    "pkl.dump(test_embeddings, open('test_embeddings_sparse_encoded.pkl', 'wb'))"
   ]
  }
 ],
 "metadata": {
  "kernelspec": {
   "display_name": "Python 3",
   "language": "python",
   "name": "python3"
  },
  "language_info": {
   "codemirror_mode": {
    "name": "ipython",
    "version": 3
   },
   "file_extension": ".py",
   "mimetype": "text/x-python",
   "name": "python",
   "nbconvert_exporter": "python",
   "pygments_lexer": "ipython3",
   "version": "3.6.2"
  }
 },
 "nbformat": 4,
 "nbformat_minor": 2
}
