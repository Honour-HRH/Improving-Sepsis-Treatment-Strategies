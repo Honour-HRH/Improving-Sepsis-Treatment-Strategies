{
 "cells": [
  {
   "cell_type": "code",
   "execution_count": 12,
   "metadata": {
    "collapsed": true
   },
   "outputs": [],
   "source": [
    "from sklearn.neighbors import NearestNeighbors as KNN\n",
    "from sklearn.model_selection import train_test_split\n",
    "from time import time\n",
    "import pickle as pkl\n",
    "import pandas as pd\n",
    "import numpy as np"
   ]
  },
  {
   "cell_type": "code",
   "execution_count": 13,
   "metadata": {
    "collapsed": true
   },
   "outputs": [],
   "source": [
    "observ_cols = ['elixhauser','re_admission', 'SOFA', 'SIRS', 'Weight_kg', 'GCS', 'HR',\n",
    "                'SysBP', 'MeanBP', 'DiaBP', 'RR', 'SpO2',\n",
    "                'Temp_C', 'FiO2_1', 'Potassium', 'Sodium', 'Chloride',\n",
    "                'Glucose', 'BUN', 'Creatinine', 'Magnesium', 'Calcium',\n",
    "                'Ionised_Ca', 'CO2_mEqL', 'SGOT', 'SGPT', 'Total_bili',\n",
    "                'Albumin', 'Hb', 'WBC_count', 'Platelets_count', 'PTT',\n",
    "                'PT', 'INR', 'Arterial_pH', 'paO2', 'paCO2',\n",
    "                'Arterial_BE', 'Arterial_lactate', 'HCO3', 'PaO2_FiO2',\n",
    "                'output_total', 'output_4hourly',\n",
    "                'sedation', 'mechvent', 'rrt']"
   ]
  },
  {
   "cell_type": "code",
   "execution_count": 17,
   "metadata": {
    "collapsed": true
   },
   "outputs": [],
   "source": [
    "train_embeddings = pkl.load(open('path/to/train_embeddings', 'rb'))\n",
    "test_embeddings = pkl.load(open('path/to/test_embeddings', 'rb'))\n",
    "train_set = pd.read_csv('path/to/trainset')\n",
    "test_set = pd.read_csv('path/to/testset')"
   ]
  },
  {
   "cell_type": "code",
   "execution_count": 15,
   "metadata": {
    "collapsed": true
   },
   "outputs": [],
   "source": [
    "train_actions = train_set['vaso_input'].values + 5 * train_set['iv_input'].values # discretized\n",
    "test_actions = test_set['vaso_input'].values + 5 * test_set['iv_input'].values\n",
    "train_survivors = np.where(train_set['died_in_hosp'].values == 0)[0]\n",
    "test_survivors = np.where(test_set['died_in_hosp'].values == 0)[0]"
   ]
  },
  {
   "cell_type": "code",
   "execution_count": 5,
   "metadata": {
    "collapsed": true
   },
   "outputs": [],
   "source": [
    "# given actions from physicians, compute prob. for each action\n",
    "def actions_2_probs(ind, src_actions, survivors, num_actions=25, expert='kernel'):\n",
    "    \n",
    "    selected_actions = src_actions[ind] # search neighbors from trainset and get their actions\n",
    "    selected_actions[selected_actions == 0] = -1\n",
    "    \n",
    "    action_probs = np.zeros((selected_actions.shape[0], num_actions))\n",
    "    \n",
    "    if expert == 'kernel': # only look at the survivors, phy looks at all patients\n",
    "        actor_actions = selected_actions * np.isin(ind, survivors) # survivors calculated from trainset\n",
    "    else:\n",
    "        actor_actions = selected_actions # look at all neighbors\n",
    "    \n",
    "    for i in range(actor_actions.shape[0]):\n",
    "        actions = actor_actions[i]\n",
    "        a, c = np.unique(actions[actions != 0], return_counts=True)\n",
    "        a[a == -1] = 0\n",
    "        action_probs[i, a] = c / np.sum(c)\n",
    "    \n",
    "    return action_probs"
   ]
  },
  {
   "cell_type": "code",
   "execution_count": 18,
   "metadata": {},
   "outputs": [
    {
     "data": {
      "text/plain": [
       "NearestNeighbors(algorithm='auto', leaf_size=30, metric='minkowski',\n",
       "         metric_params=None, n_jobs=1, n_neighbors=300, p=2, radius=1.0)"
      ]
     },
     "execution_count": 18,
     "metadata": {},
     "output_type": "execute_result"
    }
   ],
   "source": [
    "# fit knn, distance criterion: euclidean\n",
    "knn = KNN(300)\n",
    "knn.fit(train_embeddings)"
   ]
  },
  {
   "cell_type": "code",
   "execution_count": 19,
   "metadata": {
    "collapsed": true
   },
   "outputs": [],
   "source": [
    "# this may take a while, grab a coffee ...\n",
    "train_dist, train_ind = knn.kneighbors(train_embeddings)\n",
    "# test_dist, test_ind = knn.kneighbors(test_embeddings)"
   ]
  },
  {
   "cell_type": "code",
   "execution_count": 20,
   "metadata": {
    "collapsed": true
   },
   "outputs": [],
   "source": [
    "# Note that when deriving kernel policy on test set, one should look at the similar patient states from trainset.\n",
    "test_from_train_dist, test_from_train_ind = knn.kneighbors(test_embeddings)"
   ]
  },
  {
   "cell_type": "code",
   "execution_count": 21,
   "metadata": {
    "collapsed": true
   },
   "outputs": [],
   "source": [
    "knn_phy = KNN(300)\n",
    "knn_phy.fit(test_embeddings)\n",
    "# Note that when deriving physician policy for test set, \n",
    "# one should look at the similar patient states within the test set\n",
    "# this may take a while too, grab a beer ...\n",
    "test_dist_phy, test_ind_phy = knn_phy.kneighbors(test_embeddings)"
   ]
  },
  {
   "cell_type": "code",
   "execution_count": 16,
   "metadata": {
    "collapsed": true
   },
   "outputs": [],
   "source": [
    "kernel_policy_train = actions_2_probs(train_ind, train_actions, train_survivors)\n",
    "kernel_policy_test = actions_2_probs(test_ind, train_actions, train_survivors)"
   ]
  },
  {
   "cell_type": "code",
   "execution_count": 21,
   "metadata": {
    "collapsed": true
   },
   "outputs": [],
   "source": [
    "phy_policy_train = actions_2_probs(train_ind, train_actions, train_survivors, expert='phy')"
   ]
  },
  {
   "cell_type": "code",
   "execution_count": 23,
   "metadata": {
    "collapsed": true
   },
   "outputs": [],
   "source": [
    "phy_policy_test = actions_2_probs(test_ind_phy, test_actions, test_survivors, expert='phy')"
   ]
  },
  {
   "cell_type": "code",
   "execution_count": 37,
   "metadata": {
    "collapsed": true
   },
   "outputs": [],
   "source": [
    "pkl.dump((kernel_policy_train, kernel_policy_test), open('kernel_actions.pkl', 'wb'))"
   ]
  },
  {
   "cell_type": "code",
   "execution_count": 38,
   "metadata": {
    "collapsed": true
   },
   "outputs": [],
   "source": [
    "pkl.dump((phy_policy_train, phy_policy_test), open('phy_actions.pkl', 'wb'))"
   ]
  },
  {
   "cell_type": "code",
   "execution_count": 23,
   "metadata": {
    "collapsed": true
   },
   "outputs": [],
   "source": [
    "pkl.dump((train_dist, train_ind), open('kernel_knn_train.pkl', 'wb'))\n",
    "pkl.dump((test_from_train_dist, test_from_train_ind ), open('kernel_knn_test_from_train.pkl', 'wb'))\n",
    "pkl.dump((test_dist_phy, test_ind_phy), open('kernel_knn_test.pkl', 'wb'))"
   ]
  },
  {
   "cell_type": "code",
   "execution_count": null,
   "metadata": {
    "collapsed": true
   },
   "outputs": [],
   "source": []
  }
 ],
 "metadata": {
  "kernelspec": {
   "display_name": "Python 3",
   "language": "python",
   "name": "python3"
  },
  "language_info": {
   "codemirror_mode": {
    "name": "ipython",
    "version": 3
   },
   "file_extension": ".py",
   "mimetype": "text/x-python",
   "name": "python",
   "nbconvert_exporter": "python",
   "pygments_lexer": "ipython3",
   "version": "3.6.2"
  }
 },
 "nbformat": 4,
 "nbformat_minor": 2
}
