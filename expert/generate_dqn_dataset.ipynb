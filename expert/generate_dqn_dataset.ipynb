{
 "cells": [
  {
   "cell_type": "code",
   "execution_count": 1,
   "metadata": {
    "collapsed": true
   },
   "outputs": [],
   "source": [
    "import numpy as np\n",
    "import pandas as pd\n",
    "import pickle as pkl"
   ]
  },
  {
   "cell_type": "code",
   "execution_count": 2,
   "metadata": {
    "collapsed": true
   },
   "outputs": [],
   "source": [
    "def build_dqn_dataset(df, emb):\n",
    "    dqn_df = pd.DataFrame(emb)\n",
    "    dqn_df['icustayid'] = df['icustayid']\n",
    "    dqn_df['vaso_input'] = df['vaso_input']\n",
    "    dqn_df['iv_input'] = df['iv_input']\n",
    "    dqn_df['reward'] = df['neg_mortality_logodds']\n",
    "    return dqn_df"
   ]
  },
  {
   "cell_type": "code",
   "execution_count": 3,
   "metadata": {
    "collapsed": true
   },
   "outputs": [],
   "source": [
    "train_set = pd.read_csv('path/to/trainset')\n",
    "test_set = pd.read_csv('path/to/testset')"
   ]
  },
  {
   "cell_type": "code",
   "execution_count": 4,
   "metadata": {
    "collapsed": true
   },
   "outputs": [],
   "source": [
    "# prepare data for dqn using either recurrent or non-recurrent representations\n",
    "train_embeddings = pkl.load(open('path/to/recurrent/train/embeddings', 'rb'))\n",
    "test_embeddings = pkl.load(open('path/to/recurrent/test/embeddings', 'rb'))\n",
    "# train_embeddings = pkl.load(open('path/to/sparse/train/embeddings', 'rb'))\n",
    "# test_embeddings = pkl.load(open('path/to/sparse/test/embeddings', 'rb'))"
   ]
  },
  {
   "cell_type": "code",
   "execution_count": 5,
   "metadata": {
    "collapsed": true
   },
   "outputs": [],
   "source": [
    "dqn_train = build_dqn_dataset(train_set, train_embeddings)"
   ]
  },
  {
   "cell_type": "code",
   "execution_count": 6,
   "metadata": {
    "collapsed": true
   },
   "outputs": [],
   "source": [
    "dqn_test = build_dqn_dataset(test_set, test_embeddings)"
   ]
  },
  {
   "cell_type": "code",
   "execution_count": 8,
   "metadata": {
    "collapsed": true
   },
   "outputs": [],
   "source": [
    "pkl.dump(dqn_train, open('dqn_sparse_train_set.pkl', 'wb')) # or dqn_recurrent_train_set\n",
    "pkl.dump(dqn_test, open('dqn_sparse_test_set.pkl', 'wb'))"
   ]
  }
 ],
 "metadata": {
  "kernelspec": {
   "display_name": "Python 3",
   "language": "python",
   "name": "python3"
  },
  "language_info": {
   "codemirror_mode": {
    "name": "ipython",
    "version": 3
   },
   "file_extension": ".py",
   "mimetype": "text/x-python",
   "name": "python",
   "nbconvert_exporter": "python",
   "pygments_lexer": "ipython3",
   "version": "3.6.2"
  }
 },
 "nbformat": 4,
 "nbformat_minor": 2
}
